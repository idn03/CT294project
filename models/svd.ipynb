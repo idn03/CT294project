{
 "cells": [
  {
   "cell_type": "code",
   "execution_count": 16,
   "id": "89087180",
   "metadata": {},
   "outputs": [],
   "source": [
    "import pandas as pd\n",
    "import numpy as np\n",
    "import matplotlib.pyplot as plt\n",
    "import pickle\n",
    "\n",
    "from surprise import Dataset, Reader, SVD\n",
    "from surprise.model_selection import train_test_split\n",
    "\n",
    "from recommenders.utils.timer import Timer\n",
    "from recommenders.datasets import movielens\n",
    "from sklearn.preprocessing import LabelEncoder, StandardScaler\n",
    "from recommenders.models.surprise.surprise_utils import predict\n",
    "from recommenders.evaluation.python_evaluation import rmse, mae\n",
    "from surprise import accuracy"
   ]
  },
  {
   "cell_type": "code",
   "execution_count": 6,
   "id": "661b0f3f",
   "metadata": {},
   "outputs": [
    {
     "name": "stderr",
     "output_type": "stream",
     "text": [
      "100%|██████████| 4.81k/4.81k [00:02<00:00, 2.16kKB/s]\n"
     ]
    },
    {
     "data": {
      "text/html": [
       "<div>\n",
       "<style scoped>\n",
       "    .dataframe tbody tr th:only-of-type {\n",
       "        vertical-align: middle;\n",
       "    }\n",
       "\n",
       "    .dataframe tbody tr th {\n",
       "        vertical-align: top;\n",
       "    }\n",
       "\n",
       "    .dataframe thead th {\n",
       "        text-align: right;\n",
       "    }\n",
       "</style>\n",
       "<table border=\"1\" class=\"dataframe\">\n",
       "  <thead>\n",
       "    <tr style=\"text-align: right;\">\n",
       "      <th></th>\n",
       "      <th>userId</th>\n",
       "      <th>movieId</th>\n",
       "      <th>rating</th>\n",
       "      <th>timestamp</th>\n",
       "    </tr>\n",
       "  </thead>\n",
       "  <tbody>\n",
       "    <tr>\n",
       "      <th>0</th>\n",
       "      <td>196</td>\n",
       "      <td>242</td>\n",
       "      <td>3.0</td>\n",
       "      <td>881250949</td>\n",
       "    </tr>\n",
       "    <tr>\n",
       "      <th>1</th>\n",
       "      <td>186</td>\n",
       "      <td>302</td>\n",
       "      <td>3.0</td>\n",
       "      <td>891717742</td>\n",
       "    </tr>\n",
       "    <tr>\n",
       "      <th>2</th>\n",
       "      <td>22</td>\n",
       "      <td>377</td>\n",
       "      <td>1.0</td>\n",
       "      <td>878887116</td>\n",
       "    </tr>\n",
       "    <tr>\n",
       "      <th>3</th>\n",
       "      <td>244</td>\n",
       "      <td>51</td>\n",
       "      <td>2.0</td>\n",
       "      <td>880606923</td>\n",
       "    </tr>\n",
       "    <tr>\n",
       "      <th>4</th>\n",
       "      <td>166</td>\n",
       "      <td>346</td>\n",
       "      <td>1.0</td>\n",
       "      <td>886397596</td>\n",
       "    </tr>\n",
       "  </tbody>\n",
       "</table>\n",
       "</div>"
      ],
      "text/plain": [
       "   userId  movieId  rating  timestamp\n",
       "0     196      242     3.0  881250949\n",
       "1     186      302     3.0  891717742\n",
       "2      22      377     1.0  878887116\n",
       "3     244       51     2.0  880606923\n",
       "4     166      346     1.0  886397596"
      ]
     },
     "execution_count": 6,
     "metadata": {},
     "output_type": "execute_result"
    }
   ],
   "source": [
    "df = movielens.load_pandas_df(\n",
    "    size=\"100k\",\n",
    "    header=[\"userId\", \"movieId\", \"rating\", \"timestamp\"]\n",
    ")\n",
    "df.head()"
   ]
  },
  {
   "cell_type": "code",
   "execution_count": 9,
   "id": "341d6955",
   "metadata": {},
   "outputs": [],
   "source": [
    "reader = Reader(rating_scale=(df.rating.min(), df.rating.max()))\n",
    "data = Dataset.load_from_df(df[[\"userId\", \"movieId\", \"rating\"]], reader)\n",
    "trainset, testset = train_test_split(data, test_size=0.2, random_state=42)"
   ]
  },
  {
   "cell_type": "code",
   "execution_count": 20,
   "id": "57478522",
   "metadata": {},
   "outputs": [
    {
     "name": "stdout",
     "output_type": "stream",
     "text": [
      "Lan 1: RMSE = 0.9462 | MAE = 0.7466 | MSE = 0.8953\n",
      "Lan 2: RMSE = 0.9410 | MAE = 0.7402 | MSE = 0.8856\n",
      "Lan 3: RMSE = 0.9378 | MAE = 0.7379 | MSE = 0.8795\n",
      "Lan 4: RMSE = 0.9267 | MAE = 0.7311 | MSE = 0.8587\n",
      "Lan 5: RMSE = 0.9394 | MAE = 0.7409 | MSE = 0.8825\n",
      "Lan 6: RMSE = 0.9339 | MAE = 0.7358 | MSE = 0.8721\n",
      "Lan 7: RMSE = 0.9349 | MAE = 0.7396 | MSE = 0.8740\n",
      "Lan 8: RMSE = 0.9318 | MAE = 0.7337 | MSE = 0.8682\n",
      "Lan 9: RMSE = 0.9387 | MAE = 0.7381 | MSE = 0.8812\n",
      "Lan 10: RMSE = 0.9395 | MAE = 0.7407 | MSE = 0.8827\n",
      "\n",
      "Trung binh sau 10 lan:\n",
      "RMSE trung binh: 0.9370\n",
      "MAE trung binh: 0.7385\n",
      "MSE trung binh: 0.8780\n",
      "Tong thoi gian huan luyen: 18.18 giay\n"
     ]
    }
   ],
   "source": [
    "n_factors = 100\n",
    "n_epochs = 20\n",
    "lr_all = 0.005\n",
    "reg_all = 0.02\n",
    "\n",
    "rmse_list = []\n",
    "mae_list = []\n",
    "mse_list = []\n",
    "\n",
    "with Timer() as t:\n",
    "    for i in range(10):\n",
    "        reader = Reader(rating_scale=(df.rating.min(), df.rating.max()))\n",
    "        data = Dataset.load_from_df(df[[\"userId\", \"movieId\", \"rating\"]], reader)\n",
    "        trainset, testset = train_test_split(data, test_size=0.2, random_state=i)\n",
    "\n",
    "        model = SVD(\n",
    "            n_factors=n_factors,\n",
    "            n_epochs=n_epochs,\n",
    "            lr_all=lr_all,\n",
    "            reg_all=reg_all,\n",
    "            random_state=i\n",
    "        )\n",
    "        model.fit(trainset)\n",
    "        predictions = model.test(testset)\n",
    "        rmse = accuracy.rmse(predictions, verbose=False)\n",
    "        mae = accuracy.mae(predictions, verbose=False)\n",
    "        mse = rmse ** 2\n",
    "        rmse_list.append(rmse)\n",
    "        mae_list.append(mae)\n",
    "        mse_list.append(mse)\n",
    "        print(f\"Lan {i+1}: RMSE = {rmse:.4f} | MAE = {mae:.4f} | MSE = {mse:.4f}\")\n",
    "\n",
    "mean_rmse = np.mean(rmse_list)\n",
    "mean_mae = np.mean(mae_list)\n",
    "mean_mse = np.mean(mse_list)\n",
    "\n",
    "print(f\"\\nTrung binh sau 10 lan:\")\n",
    "print(f\"RMSE trung binh: {mean_rmse:.4f}\")\n",
    "print(f\"MAE trung binh: {mean_mae:.4f}\")\n",
    "print(f\"MSE trung binh: {mean_mse:.4f}\")\n",
    "print(f\"Tong thoi gian huan luyen: {t.interval:.2f} giay\")"
   ]
  },
  {
   "cell_type": "code",
   "execution_count": 22,
   "id": "fe5e90d3",
   "metadata": {},
   "outputs": [
    {
     "data": {
      "image/png": "[encoded data removed]",
      "text/plain": [
       "<Figure size 1000x600 with 1 Axes>"
      ]
     },
     "metadata": {},
     "output_type": "display_data"
    }
   ],
   "source": [
    "iterations = np.arange(1, 11)\n",
    "\n",
    "plt.figure(figsize=(10, 6))\n",
    "plt.plot(iterations, rmse_list, marker='o', label='RMSE')\n",
    "plt.plot(iterations, mae_list, marker='s', label='MAE')\n",
    "plt.plot(iterations, mse_list, marker='^', label='MSE')\n",
    "plt.xlabel('Lần lặp')\n",
    "plt.ylabel('Giá trị')\n",
    "plt.title('Biểu đồ Bias và Variance qua các lần lặp')\n",
    "plt.legend()\n",
    "plt.grid(True)\n",
    "plt.show()"
   ]
  },
  {
   "cell_type": "code",
   "execution_count": 23,
   "id": "ae35f921",
   "metadata": {},
   "outputs": [
    {
     "name": "stdout",
     "output_type": "stream",
     "text": [
      "Luu mo hinh thanh cong\n"
     ]
    }
   ],
   "source": [
    "with open('svd_model.pkl', 'wb') as f:\n",
    "    pickle.dump(model, f)\n",
    "print(\"Luu mo hinh thanh cong\")"
   ]
  }
 ],
 "metadata": {
  "kernelspec": {
   "display_name": "ct294-kernel",
   "language": "python",
   "name": "ct294-p3.9"
  },
  "language_info": {
   "codemirror_mode": {
    "name": "ipython",
    "version": 3
   },
   "file_extension": ".py",
   "mimetype": "text/x-python",
   "name": "python",
   "nbconvert_exporter": "python",
   "pygments_lexer": "ipython3",
   "version": "3.9.23"
  }
 },
 "nbformat": 4,
 "nbformat_minor": 5
}
