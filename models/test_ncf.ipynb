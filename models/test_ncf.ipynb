{
 "cells": [
  {
   "cell_type": "code",
   "execution_count": 2,
   "id": "536d2a2c",
   "metadata": {},
   "outputs": [
    {
     "name": "stderr",
     "output_type": "stream",
     "text": [
      "WARNING:tensorflow:From c:\\Users\\USER\\.conda\\envs\\recommenders-env\\lib\\site-packages\\recommenders\\models\\ncf\\ncf_singlenode.py:12: The name tf.disable_eager_execution is deprecated. Please use tf.compat.v1.disable_eager_execution instead.\n",
      "\n"
     ]
    }
   ],
   "source": [
    "import pandas as pd\n",
    "import numpy as np\n",
    "import matplotlib.pyplot as plt\n",
    "import time\n",
    "from tempfile import NamedTemporaryFile\n",
    "\n",
    "from recommenders.datasets import movielens\n",
    "from recommenders.models.ncf.dataset import Dataset as NCFDataset\n",
    "from recommenders.models.ncf.ncf_singlenode import NCF\n",
    "from recommenders.evaluation.python_evaluation import rmse, mae\n",
    "from sklearn.model_selection import train_test_split\n",
    "from sklearn.metrics import mean_squared_error  # <-- để tính MSE\n"
   ]
  },
  {
   "cell_type": "code",
   "execution_count": 3,
   "id": "cf087157",
   "metadata": {},
   "outputs": [
    {
     "name": "stderr",
     "output_type": "stream",
     "text": [
      "INFO:recommenders.datasets.download_utils:Downloading https://files.grouplens.org/datasets/movielens/ml-100k.zip\n",
      "100%|██████████| 4.81k/4.81k [00:16<00:00, 296KB/s]\n"
     ]
    }
   ],
   "source": [
    "# 1) Load data\n",
    "data = movielens.load_pandas_df(\n",
    "    size=\"100k\",\n",
    "    header=[\"userID\", \"itemID\", \"rating\", \"timestamp\"]\n",
    ")[[\"userID\", \"itemID\", \"rating\"]]\n",
    "\n",
    "n_runs = 10\n",
    "rmse_list, mae_list, mse_list = [], [], []\n",
    "train_time_list, test_time_list = [], []"
   ]
  },
  {
   "cell_type": "code",
   "execution_count": 6,
   "id": "395540f6",
   "metadata": {},
   "outputs": [
    {
     "name": "stderr",
     "output_type": "stream",
     "text": [
      "INFO:recommenders.models.ncf.dataset:Indexing C:\\Users\\USER\\AppData\\Local\\Temp\\tmpso8xx8h4.csv ...\n",
      "INFO:recommenders.models.ncf.ncf_singlenode:Epoch 1 [13.84s]: train_loss = 0.398231 \n",
      "INFO:recommenders.models.ncf.ncf_singlenode:Epoch 2 [8.72s]: train_loss = 0.327310 \n",
      "INFO:recommenders.models.ncf.ncf_singlenode:Epoch 3 [3.40s]: train_loss = 0.310151 \n",
      "INFO:recommenders.models.ncf.ncf_singlenode:Epoch 4 [3.58s]: train_loss = 0.301218 \n",
      "INFO:recommenders.models.ncf.ncf_singlenode:Epoch 5 [3.36s]: train_loss = 0.292049 \n",
      "INFO:recommenders.models.ncf.ncf_singlenode:Epoch 6 [3.89s]: train_loss = 0.283611 \n",
      "INFO:recommenders.models.ncf.ncf_singlenode:Epoch 7 [3.28s]: train_loss = 0.276659 \n",
      "INFO:recommenders.models.ncf.ncf_singlenode:Epoch 8 [3.12s]: train_loss = 0.271037 \n",
      "INFO:recommenders.models.ncf.ncf_singlenode:Epoch 9 [5.10s]: train_loss = 0.266887 \n",
      "INFO:recommenders.models.ncf.ncf_singlenode:Epoch 10 [19.84s]: train_loss = 0.262733 \n"
     ]
    },
    {
     "name": "stdout",
     "output_type": "stream",
     "text": [
      "Lần 1: Train 68.148s | Test 22.564s | RMSE = 3.2012 | MAE = 3.0082 | MSE = 10.2477\n"
     ]
    },
    {
     "name": "stderr",
     "output_type": "stream",
     "text": [
      "INFO:recommenders.models.ncf.dataset:Indexing C:\\Users\\USER\\AppData\\Local\\Temp\\tmpi9l711aw.csv ...\n",
      "c:\\Users\\USER\\.conda\\envs\\recommenders-env\\lib\\site-packages\\tensorflow\\python\\keras\\engine\\base_layer_v1.py:1694: UserWarning: `layer.apply` is deprecated and will be removed in a future version. Please use `layer.__call__` method instead.\n",
      "  warnings.warn('`layer.apply` is deprecated and '\n",
      "INFO:recommenders.models.ncf.ncf_singlenode:Epoch 1 [15.02s]: train_loss = 0.411355 \n",
      "INFO:recommenders.models.ncf.ncf_singlenode:Epoch 2 [13.71s]: train_loss = 0.337724 \n",
      "INFO:recommenders.models.ncf.ncf_singlenode:Epoch 3 [25.24s]: train_loss = 0.315355 \n",
      "INFO:recommenders.models.ncf.ncf_singlenode:Epoch 4 [17.02s]: train_loss = 0.303948 \n",
      "INFO:recommenders.models.ncf.ncf_singlenode:Epoch 5 [3.81s]: train_loss = 0.294933 \n",
      "INFO:recommenders.models.ncf.ncf_singlenode:Epoch 6 [3.11s]: train_loss = 0.286556 \n",
      "INFO:recommenders.models.ncf.ncf_singlenode:Epoch 7 [3.08s]: train_loss = 0.280478 \n",
      "INFO:recommenders.models.ncf.ncf_singlenode:Epoch 8 [4.16s]: train_loss = 0.275062 \n",
      "INFO:recommenders.models.ncf.ncf_singlenode:Epoch 9 [4.02s]: train_loss = 0.270437 \n",
      "INFO:recommenders.models.ncf.ncf_singlenode:Epoch 10 [4.59s]: train_loss = 0.267451 \n",
      "INFO:recommenders.models.ncf.dataset:Indexing C:\\Users\\USER\\AppData\\Local\\Temp\\tmpq9r05tnw.csv ...\n"
     ]
    },
    {
     "name": "stdout",
     "output_type": "stream",
     "text": [
      "Lần 2: Train 93.777s | Test 10.483s | RMSE = 3.1649 | MAE = 2.9702 | MSE = 10.0167\n"
     ]
    },
    {
     "name": "stderr",
     "output_type": "stream",
     "text": [
      "c:\\Users\\USER\\.conda\\envs\\recommenders-env\\lib\\site-packages\\tensorflow\\python\\keras\\engine\\base_layer_v1.py:1694: UserWarning: `layer.apply` is deprecated and will be removed in a future version. Please use `layer.__call__` method instead.\n",
      "  warnings.warn('`layer.apply` is deprecated and '\n",
      "INFO:recommenders.models.ncf.ncf_singlenode:Epoch 1 [4.05s]: train_loss = 0.398528 \n",
      "INFO:recommenders.models.ncf.ncf_singlenode:Epoch 2 [3.66s]: train_loss = 0.334635 \n",
      "INFO:recommenders.models.ncf.ncf_singlenode:Epoch 3 [4.52s]: train_loss = 0.314512 \n",
      "INFO:recommenders.models.ncf.ncf_singlenode:Epoch 4 [4.14s]: train_loss = 0.304518 \n",
      "INFO:recommenders.models.ncf.ncf_singlenode:Epoch 5 [4.05s]: train_loss = 0.296189 \n",
      "INFO:recommenders.models.ncf.ncf_singlenode:Epoch 6 [4.09s]: train_loss = 0.286892 \n",
      "INFO:recommenders.models.ncf.ncf_singlenode:Epoch 7 [4.22s]: train_loss = 0.278694 \n",
      "INFO:recommenders.models.ncf.ncf_singlenode:Epoch 8 [4.36s]: train_loss = 0.273359 \n",
      "INFO:recommenders.models.ncf.ncf_singlenode:Epoch 9 [4.06s]: train_loss = 0.268943 \n",
      "INFO:recommenders.models.ncf.ncf_singlenode:Epoch 10 [4.79s]: train_loss = 0.265567 \n",
      "INFO:recommenders.models.ncf.dataset:Indexing C:\\Users\\USER\\AppData\\Local\\Temp\\tmp59mwukjw.csv ...\n"
     ]
    },
    {
     "name": "stdout",
     "output_type": "stream",
     "text": [
      "Lần 3: Train 41.941s | Test 11.771s | RMSE = 3.1928 | MAE = 2.9972 | MSE = 10.1940\n"
     ]
    },
    {
     "name": "stderr",
     "output_type": "stream",
     "text": [
      "c:\\Users\\USER\\.conda\\envs\\recommenders-env\\lib\\site-packages\\tensorflow\\python\\keras\\engine\\base_layer_v1.py:1694: UserWarning: `layer.apply` is deprecated and will be removed in a future version. Please use `layer.__call__` method instead.\n",
      "  warnings.warn('`layer.apply` is deprecated and '\n",
      "INFO:recommenders.models.ncf.ncf_singlenode:Epoch 1 [5.46s]: train_loss = 0.426775 \n",
      "INFO:recommenders.models.ncf.ncf_singlenode:Epoch 2 [5.60s]: train_loss = 0.356099 \n",
      "INFO:recommenders.models.ncf.ncf_singlenode:Epoch 3 [4.16s]: train_loss = 0.337649 \n",
      "INFO:recommenders.models.ncf.ncf_singlenode:Epoch 4 [4.80s]: train_loss = 0.317653 \n",
      "INFO:recommenders.models.ncf.ncf_singlenode:Epoch 5 [4.98s]: train_loss = 0.305017 \n",
      "INFO:recommenders.models.ncf.ncf_singlenode:Epoch 6 [5.02s]: train_loss = 0.295894 \n",
      "INFO:recommenders.models.ncf.ncf_singlenode:Epoch 7 [4.74s]: train_loss = 0.288361 \n",
      "INFO:recommenders.models.ncf.ncf_singlenode:Epoch 8 [4.48s]: train_loss = 0.281490 \n",
      "INFO:recommenders.models.ncf.ncf_singlenode:Epoch 9 [4.73s]: train_loss = 0.277074 \n",
      "INFO:recommenders.models.ncf.ncf_singlenode:Epoch 10 [4.35s]: train_loss = 0.272034 \n",
      "INFO:recommenders.models.ncf.dataset:Indexing C:\\Users\\USER\\AppData\\Local\\Temp\\tmpha7vz2c2.csv ...\n"
     ]
    },
    {
     "name": "stdout",
     "output_type": "stream",
     "text": [
      "Lần 4: Train 48.322s | Test 11.213s | RMSE = 3.1870 | MAE = 2.9943 | MSE = 10.1569\n"
     ]
    },
    {
     "name": "stderr",
     "output_type": "stream",
     "text": [
      "c:\\Users\\USER\\.conda\\envs\\recommenders-env\\lib\\site-packages\\tensorflow\\python\\keras\\engine\\base_layer_v1.py:1694: UserWarning: `layer.apply` is deprecated and will be removed in a future version. Please use `layer.__call__` method instead.\n",
      "  warnings.warn('`layer.apply` is deprecated and '\n",
      "INFO:recommenders.models.ncf.ncf_singlenode:Epoch 1 [5.12s]: train_loss = 0.498976 \n",
      "INFO:recommenders.models.ncf.ncf_singlenode:Epoch 2 [7.71s]: train_loss = 0.357543 \n",
      "INFO:recommenders.models.ncf.ncf_singlenode:Epoch 3 [17.76s]: train_loss = 0.339573 \n",
      "INFO:recommenders.models.ncf.ncf_singlenode:Epoch 4 [4.86s]: train_loss = 0.333344 \n",
      "INFO:recommenders.models.ncf.ncf_singlenode:Epoch 5 [4.20s]: train_loss = 0.327458 \n",
      "INFO:recommenders.models.ncf.ncf_singlenode:Epoch 6 [4.95s]: train_loss = 0.322941 \n",
      "INFO:recommenders.models.ncf.ncf_singlenode:Epoch 7 [4.63s]: train_loss = 0.318912 \n",
      "INFO:recommenders.models.ncf.ncf_singlenode:Epoch 8 [4.03s]: train_loss = 0.313043 \n",
      "INFO:recommenders.models.ncf.ncf_singlenode:Epoch 9 [6.03s]: train_loss = 0.307735 \n",
      "INFO:recommenders.models.ncf.ncf_singlenode:Epoch 10 [12.10s]: train_loss = 0.302273 \n"
     ]
    },
    {
     "name": "stdout",
     "output_type": "stream",
     "text": [
      "Lần 5: Train 71.426s | Test 17.018s | RMSE = 3.2375 | MAE = 3.0436 | MSE = 10.4813\n"
     ]
    },
    {
     "name": "stderr",
     "output_type": "stream",
     "text": [
      "INFO:recommenders.models.ncf.dataset:Indexing C:\\Users\\USER\\AppData\\Local\\Temp\\tmpka48ux38.csv ...\n",
      "c:\\Users\\USER\\.conda\\envs\\recommenders-env\\lib\\site-packages\\tensorflow\\python\\keras\\engine\\base_layer_v1.py:1694: UserWarning: `layer.apply` is deprecated and will be removed in a future version. Please use `layer.__call__` method instead.\n",
      "  warnings.warn('`layer.apply` is deprecated and '\n",
      "INFO:recommenders.models.ncf.ncf_singlenode:Epoch 1 [14.21s]: train_loss = 0.399383 \n",
      "INFO:recommenders.models.ncf.ncf_singlenode:Epoch 2 [8.99s]: train_loss = 0.329323 \n",
      "INFO:recommenders.models.ncf.ncf_singlenode:Epoch 3 [10.22s]: train_loss = 0.311219 \n",
      "INFO:recommenders.models.ncf.ncf_singlenode:Epoch 4 [12.52s]: train_loss = 0.302034 \n",
      "INFO:recommenders.models.ncf.ncf_singlenode:Epoch 5 [10.43s]: train_loss = 0.292783 \n",
      "INFO:recommenders.models.ncf.ncf_singlenode:Epoch 6 [11.17s]: train_loss = 0.285539 \n",
      "INFO:recommenders.models.ncf.ncf_singlenode:Epoch 7 [11.90s]: train_loss = 0.278419 \n",
      "INFO:recommenders.models.ncf.ncf_singlenode:Epoch 8 [9.27s]: train_loss = 0.273909 \n",
      "INFO:recommenders.models.ncf.ncf_singlenode:Epoch 9 [13.98s]: train_loss = 0.268280 \n",
      "INFO:recommenders.models.ncf.ncf_singlenode:Epoch 10 [10.38s]: train_loss = 0.265442 \n"
     ]
    },
    {
     "name": "stdout",
     "output_type": "stream",
     "text": [
      "Lần 6: Train 113.097s | Test 12.128s | RMSE = 3.1914 | MAE = 2.9986 | MSE = 10.1848\n"
     ]
    },
    {
     "name": "stderr",
     "output_type": "stream",
     "text": [
      "INFO:recommenders.models.ncf.dataset:Indexing C:\\Users\\USER\\AppData\\Local\\Temp\\tmpre8jobqi.csv ...\n",
      "c:\\Users\\USER\\.conda\\envs\\recommenders-env\\lib\\site-packages\\tensorflow\\python\\keras\\engine\\base_layer_v1.py:1694: UserWarning: `layer.apply` is deprecated and will be removed in a future version. Please use `layer.__call__` method instead.\n",
      "  warnings.warn('`layer.apply` is deprecated and '\n",
      "INFO:recommenders.models.ncf.ncf_singlenode:Epoch 1 [13.75s]: train_loss = 0.405034 \n",
      "INFO:recommenders.models.ncf.ncf_singlenode:Epoch 2 [8.13s]: train_loss = 0.342156 \n",
      "INFO:recommenders.models.ncf.ncf_singlenode:Epoch 3 [12.85s]: train_loss = 0.320914 \n",
      "INFO:recommenders.models.ncf.ncf_singlenode:Epoch 4 [12.26s]: train_loss = 0.307230 \n",
      "INFO:recommenders.models.ncf.ncf_singlenode:Epoch 5 [12.46s]: train_loss = 0.296806 \n",
      "INFO:recommenders.models.ncf.ncf_singlenode:Epoch 6 [12.64s]: train_loss = 0.289769 \n",
      "INFO:recommenders.models.ncf.ncf_singlenode:Epoch 7 [9.76s]: train_loss = 0.282316 \n",
      "INFO:recommenders.models.ncf.ncf_singlenode:Epoch 8 [7.75s]: train_loss = 0.276637 \n",
      "INFO:recommenders.models.ncf.ncf_singlenode:Epoch 9 [8.67s]: train_loss = 0.273450 \n",
      "INFO:recommenders.models.ncf.ncf_singlenode:Epoch 10 [8.69s]: train_loss = 0.268826 \n"
     ]
    },
    {
     "name": "stdout",
     "output_type": "stream",
     "text": [
      "Lần 7: Train 106.993s | Test 11.886s | RMSE = 3.1999 | MAE = 3.0043 | MSE = 10.2395\n"
     ]
    },
    {
     "name": "stderr",
     "output_type": "stream",
     "text": [
      "INFO:recommenders.models.ncf.dataset:Indexing C:\\Users\\USER\\AppData\\Local\\Temp\\tmplc_6ehg6.csv ...\n",
      "c:\\Users\\USER\\.conda\\envs\\recommenders-env\\lib\\site-packages\\tensorflow\\python\\keras\\engine\\base_layer_v1.py:1694: UserWarning: `layer.apply` is deprecated and will be removed in a future version. Please use `layer.__call__` method instead.\n",
      "  warnings.warn('`layer.apply` is deprecated and '\n",
      "INFO:recommenders.models.ncf.ncf_singlenode:Epoch 1 [7.93s]: train_loss = 0.414341 \n",
      "INFO:recommenders.models.ncf.ncf_singlenode:Epoch 2 [6.75s]: train_loss = 0.337974 \n",
      "INFO:recommenders.models.ncf.ncf_singlenode:Epoch 3 [8.73s]: train_loss = 0.316478 \n",
      "INFO:recommenders.models.ncf.ncf_singlenode:Epoch 4 [8.40s]: train_loss = 0.306099 \n",
      "INFO:recommenders.models.ncf.ncf_singlenode:Epoch 5 [8.48s]: train_loss = 0.296804 \n",
      "INFO:recommenders.models.ncf.ncf_singlenode:Epoch 6 [9.55s]: train_loss = 0.287566 \n",
      "INFO:recommenders.models.ncf.ncf_singlenode:Epoch 7 [8.58s]: train_loss = 0.279896 \n",
      "INFO:recommenders.models.ncf.ncf_singlenode:Epoch 8 [8.15s]: train_loss = 0.274639 \n",
      "INFO:recommenders.models.ncf.ncf_singlenode:Epoch 9 [8.70s]: train_loss = 0.268994 \n",
      "INFO:recommenders.models.ncf.ncf_singlenode:Epoch 10 [8.34s]: train_loss = 0.265543 \n"
     ]
    },
    {
     "name": "stdout",
     "output_type": "stream",
     "text": [
      "Lần 8: Train 83.601s | Test 12.233s | RMSE = 3.1892 | MAE = 2.9937 | MSE = 10.1709\n"
     ]
    },
    {
     "name": "stderr",
     "output_type": "stream",
     "text": [
      "INFO:recommenders.models.ncf.dataset:Indexing C:\\Users\\USER\\AppData\\Local\\Temp\\tmp_xpcdc3y.csv ...\n",
      "c:\\Users\\USER\\.conda\\envs\\recommenders-env\\lib\\site-packages\\tensorflow\\python\\keras\\engine\\base_layer_v1.py:1694: UserWarning: `layer.apply` is deprecated and will be removed in a future version. Please use `layer.__call__` method instead.\n",
      "  warnings.warn('`layer.apply` is deprecated and '\n",
      "INFO:recommenders.models.ncf.ncf_singlenode:Epoch 1 [7.79s]: train_loss = 0.412790 \n",
      "INFO:recommenders.models.ncf.ncf_singlenode:Epoch 2 [7.62s]: train_loss = 0.332526 \n",
      "INFO:recommenders.models.ncf.ncf_singlenode:Epoch 3 [7.22s]: train_loss = 0.313399 \n",
      "INFO:recommenders.models.ncf.ncf_singlenode:Epoch 4 [7.26s]: train_loss = 0.304714 \n",
      "INFO:recommenders.models.ncf.ncf_singlenode:Epoch 5 [7.46s]: train_loss = 0.297558 \n",
      "INFO:recommenders.models.ncf.ncf_singlenode:Epoch 6 [7.34s]: train_loss = 0.291821 \n",
      "INFO:recommenders.models.ncf.ncf_singlenode:Epoch 7 [7.93s]: train_loss = 0.285881 \n",
      "INFO:recommenders.models.ncf.ncf_singlenode:Epoch 8 [8.16s]: train_loss = 0.281287 \n",
      "INFO:recommenders.models.ncf.ncf_singlenode:Epoch 9 [8.08s]: train_loss = 0.276121 \n",
      "INFO:recommenders.models.ncf.ncf_singlenode:Epoch 10 [8.30s]: train_loss = 0.272202 \n"
     ]
    },
    {
     "name": "stdout",
     "output_type": "stream",
     "text": [
      "Lần 9: Train 77.176s | Test 12.373s | RMSE = 3.1915 | MAE = 2.9971 | MSE = 10.1859\n"
     ]
    },
    {
     "name": "stderr",
     "output_type": "stream",
     "text": [
      "INFO:recommenders.models.ncf.dataset:Indexing C:\\Users\\USER\\AppData\\Local\\Temp\\tmps6a3fdxu.csv ...\n",
      "c:\\Users\\USER\\.conda\\envs\\recommenders-env\\lib\\site-packages\\tensorflow\\python\\keras\\engine\\base_layer_v1.py:1694: UserWarning: `layer.apply` is deprecated and will be removed in a future version. Please use `layer.__call__` method instead.\n",
      "  warnings.warn('`layer.apply` is deprecated and '\n",
      "INFO:recommenders.models.ncf.ncf_singlenode:Epoch 1 [8.19s]: train_loss = 0.390555 \n",
      "INFO:recommenders.models.ncf.ncf_singlenode:Epoch 2 [8.61s]: train_loss = 0.325341 \n",
      "INFO:recommenders.models.ncf.ncf_singlenode:Epoch 3 [7.55s]: train_loss = 0.306289 \n",
      "INFO:recommenders.models.ncf.ncf_singlenode:Epoch 4 [9.27s]: train_loss = 0.294929 \n",
      "INFO:recommenders.models.ncf.ncf_singlenode:Epoch 5 [8.57s]: train_loss = 0.285720 \n",
      "INFO:recommenders.models.ncf.ncf_singlenode:Epoch 6 [7.42s]: train_loss = 0.277760 \n",
      "INFO:recommenders.models.ncf.ncf_singlenode:Epoch 7 [7.65s]: train_loss = 0.273377 \n",
      "INFO:recommenders.models.ncf.ncf_singlenode:Epoch 8 [7.55s]: train_loss = 0.269171 \n",
      "INFO:recommenders.models.ncf.ncf_singlenode:Epoch 9 [6.92s]: train_loss = 0.266041 \n",
      "INFO:recommenders.models.ncf.ncf_singlenode:Epoch 10 [9.12s]: train_loss = 0.263280 \n"
     ]
    },
    {
     "name": "stdout",
     "output_type": "stream",
     "text": [
      "Lần 10: Train 80.880s | Test 13.090s | RMSE = 3.1869 | MAE = 2.9936 | MSE = 10.1561\n"
     ]
    }
   ],
   "source": [
    "for i in range(n_runs):\n",
    "    # 2) Split\n",
    "    train, test = train_test_split(data, test_size=0.2, random_state=42 + i)\n",
    "    train = train.sort_values(by=\"userID\")\n",
    "\n",
    "    # 3) Ghi file tạm cho NCFDataset\n",
    "    with NamedTemporaryFile(\"w\", suffix=\".csv\", delete=False) as f:\n",
    "        train.to_csv(f.name, index=False)\n",
    "        train_path = f.name\n",
    "\n",
    "    # 4) Build & train model + đo thời gian TRAIN\n",
    "    ncf_data = NCFDataset(train_path, seed=42 + i)\n",
    "    ncf_model = NCF(\n",
    "        n_users=ncf_data.n_users,\n",
    "        n_items=ncf_data.n_items,\n",
    "        model_type=\"NeuMF\",\n",
    "        batch_size=256,\n",
    "        learning_rate=0.001,\n",
    "        n_epochs=10,\n",
    "        seed=42 + i\n",
    "    )\n",
    "    st = time.time()\n",
    "    ncf_model.fit(ncf_data)\n",
    "    train_time = time.time() - st\n",
    "    train_time_list.append(train_time)\n",
    "\n",
    "    # 5) Predict + đo thời gian TEST (suy luận)\n",
    "    valid_users = set(train[\"userID\"].unique())\n",
    "    valid_items = set(train[\"itemID\"].unique())\n",
    "    mask = test[\"userID\"].isin(valid_users) & test[\"itemID\"].isin(valid_items)\n",
    "    test_filtered = test[mask].copy()\n",
    "\n",
    "    st = time.time()\n",
    "    preds = [\n",
    "        ncf_model.predict(u, it)\n",
    "        for u, it in zip(test_filtered[\"userID\"], test_filtered[\"itemID\"])\n",
    "    ]\n",
    "    test_time = time.time() - st\n",
    "    test_time_list.append(test_time)\n",
    "\n",
    "    test_filtered[\"prediction\"] = preds\n",
    "\n",
    "    # 6) Metrics\n",
    "    rmse_score = rmse(\n",
    "        rating_true=test_filtered,\n",
    "        rating_pred=test_filtered,\n",
    "        col_user=\"userID\",\n",
    "        col_item=\"itemID\",\n",
    "        col_rating=\"rating\",\n",
    "        col_prediction=\"prediction\",\n",
    "    )\n",
    "    mae_score = mae(\n",
    "        rating_true=test_filtered,\n",
    "        rating_pred=test_filtered,\n",
    "        col_user=\"userID\",\n",
    "        col_item=\"itemID\",\n",
    "        col_rating=\"rating\",\n",
    "        col_prediction=\"prediction\",\n",
    "    )\n",
    "    mse_score = mean_squared_error(test_filtered[\"rating\"], test_filtered[\"prediction\"])\n",
    "\n",
    "    rmse_list.append(rmse_score)\n",
    "    mae_list.append(mae_score)\n",
    "    mse_list.append(mse_score)\n",
    "\n",
    "    print(\n",
    "        f\"Lần {i+1}: \"\n",
    "        f\"Train {train_time:.3f}s | Test {test_time:.3f}s | \"\n",
    "        f\"RMSE = {rmse_score:.4f} | MAE = {mae_score:.4f} | MSE = {mse_score:.4f}\"\n",
    "    )"
   ]
  },
  {
   "cell_type": "code",
   "execution_count": 7,
   "id": "18e2889d",
   "metadata": {},
   "outputs": [
    {
     "name": "stdout",
     "output_type": "stream",
     "text": [
      "Train time: 78.536 ± 22.804 s\n",
      "Test  time: 13.476 ± 3.642 s\n",
      "RMSE     : 3.1942 ± 0.0181\n",
      "MAE      : 3.0001 ± 0.0183\n",
      "MSE      : 10.2034 ± 0.1162\n"
     ]
    }
   ],
   "source": [
    "# 7) Tổng hợp kết quả\n",
    "def summarize(arr):\n",
    "    return np.mean(arr), np.std(arr, ddof=1)\n",
    "\n",
    "mean_rmse, std_rmse = summarize(rmse_list)\n",
    "mean_mae, std_mae = summarize(mae_list)\n",
    "mean_mse, std_mse = summarize(mse_list)\n",
    "mean_ttrain, std_ttrain = summarize(train_time_list)\n",
    "mean_ttest, std_ttest = summarize(test_time_list)\n",
    "\n",
    "print(f\"Train time: {mean_ttrain:.3f} ± {std_ttrain:.3f} s\")\n",
    "print(f\"Test  time: {mean_ttest:.3f} ± {std_ttest:.3f} s\")\n",
    "print(f\"RMSE     : {mean_rmse:.4f} ± {std_rmse:.4f}\")\n",
    "print(f\"MAE      : {mean_mae:.4f} ± {std_mae:.4f}\")\n",
    "print(f\"MSE      : {mean_mse:.4f} ± {std_mse:.4f}\")"
   ]
  },
  {
   "cell_type": "code",
   "execution_count": 8,
   "id": "4c378b5a",
   "metadata": {},
   "outputs": [
    {
     "data": {
      "image/png": "[encoded data removed]",
      "text/plain": [
       "<Figure size 1000x600 with 1 Axes>"
      ]
     },
     "metadata": {},
     "output_type": "display_data"
    }
   ],
   "source": [
    "# 8) Plot các metric theo từng lần lặp\n",
    "iterations = np.arange(1, n_runs + 1)\n",
    "\n",
    "plt.figure(figsize=(10, 6))\n",
    "plt.plot(iterations, rmse_list, marker='o', label='RMSE')\n",
    "plt.plot(iterations, mae_list, marker='s', label='MAE')\n",
    "plt.plot(iterations, mse_list, marker='^', label='MSE')\n",
    "plt.xlabel('Lần lặp')\n",
    "plt.ylabel('Giá trị')\n",
    "plt.title('RMSE / MAE / MSE qua các lần lặp')\n",
    "plt.legend()\n",
    "plt.grid(True)\n",
    "plt.show()"
   ]
  },
  {
   "cell_type": "code",
   "execution_count": 9,
   "id": "d4ccbdc3",
   "metadata": {},
   "outputs": [
    {
     "ename": "TypeError",
     "evalue": "cannot pickle 'SymbolicTensor' object",
     "output_type": "error",
     "traceback": [
      "\u001b[1;31m---------------------------------------------------------------------------\u001b[0m",
      "\u001b[1;31mTypeError\u001b[0m                                 Traceback (most recent call last)",
      "Cell \u001b[1;32mIn[9], line 4\u001b[0m\n\u001b[0;32m      1\u001b[0m \u001b[38;5;28;01mimport\u001b[39;00m\u001b[38;5;250m \u001b[39m\u001b[38;5;21;01mpickle\u001b[39;00m\n\u001b[0;32m      3\u001b[0m \u001b[38;5;28;01mwith\u001b[39;00m \u001b[38;5;28mopen\u001b[39m(\u001b[38;5;124m'\u001b[39m\u001b[38;5;124mncf_model.pkl\u001b[39m\u001b[38;5;124m'\u001b[39m, \u001b[38;5;124m'\u001b[39m\u001b[38;5;124mwb\u001b[39m\u001b[38;5;124m'\u001b[39m) \u001b[38;5;28;01mas\u001b[39;00m f:\n\u001b[1;32m----> 4\u001b[0m     \u001b[43mpickle\u001b[49m\u001b[38;5;241;43m.\u001b[39;49m\u001b[43mdump\u001b[49m\u001b[43m(\u001b[49m\u001b[43mncf_model\u001b[49m\u001b[43m,\u001b[49m\u001b[43m \u001b[49m\u001b[43mf\u001b[49m\u001b[43m)\u001b[49m\n\u001b[0;32m      6\u001b[0m \u001b[38;5;28mprint\u001b[39m(\u001b[38;5;124m\"\u001b[39m\u001b[38;5;124mLuu mo hinh thanh cong\u001b[39m\u001b[38;5;124m\"\u001b[39m)\n",
      "\u001b[1;31mTypeError\u001b[0m: cannot pickle 'SymbolicTensor' object"
     ]
    }
   ],
   "source": [
    "import pickle\n",
    "\n",
    "with open('ncf_model.pkl', 'wb') as f:\n",
    "    pickle.dump(ncf_model, f)\n",
    "\n",
    "print(\"Luu mo hinh thanh cong\")"
   ]
  }
 ],
 "metadata": {
  "kernelspec": {
   "display_name": "recommenders-env",
   "language": "python",
   "name": "python3"
  },
  "language_info": {
   "codemirror_mode": {
    "name": "ipython",
    "version": 3
   },
   "file_extension": ".py",
   "mimetype": "text/x-python",
   "name": "python",
   "nbconvert_exporter": "python",
   "pygments_lexer": "ipython3",
   "version": "3.9.23"
  }
 },
 "nbformat": 4,
 "nbformat_minor": 5
}
