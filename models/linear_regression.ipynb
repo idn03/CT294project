{
 "cells": [
  {
   "cell_type": "code",
   "execution_count": 2,
   "id": "cefdfe32",
   "metadata": {},
   "outputs": [],
   "source": [
    "import pandas as pd\n",
    "import numpy as np\n",
    "import matplotlib.pyplot as plt\n",
    "import time\n",
    "import statistics\n",
    "import pickle\n",
    "\n",
    "from sklearn.preprocessing import LabelEncoder, StandardScaler\n",
    "from recommenders.datasets import movielens\n",
    "from sklearn.model_selection import train_test_split\n",
    "from sklearn.metrics import mean_squared_error, mean_absolute_error\n",
    "\n",
    "from sklearn.linear_model import LinearRegression"
   ]
  },
  {
   "cell_type": "code",
   "execution_count": 3,
   "id": "be0bdcda",
   "metadata": {},
   "outputs": [
    {
     "name": "stderr",
     "output_type": "stream",
     "text": [
      "100%|██████████| 4.81k/4.81k [00:03<00:00, 1.41kKB/s]\n"
     ]
    },
    {
     "name": "stdout",
     "output_type": "stream",
     "text": [
      "   userId  movieId  rating\n",
      "0     196      242     3.0\n",
      "1     186      302     3.0\n",
      "2      22      377     1.0\n",
      "3     244       51     2.0\n",
      "4     166      346     1.0\n"
     ]
    }
   ],
   "source": [
    "# Tải dữ liệu\n",
    "df = movielens.load_pandas_df(\n",
    "    size=\"100k\",\n",
    "    header=[\"userId\", \"movieId\", \"rating\", \"timestamp\"]\n",
    ")\n",
    "df = df[[\"userId\", \"movieId\", \"rating\"]]\n",
    "print(df.head())"
   ]
  },
  {
   "cell_type": "code",
   "execution_count": 4,
   "id": "035dc92d",
   "metadata": {},
   "outputs": [],
   "source": [
    "# ma hoa\n",
    "user_enc = LabelEncoder()\n",
    "item_enc = LabelEncoder()\n",
    "df[\"userId_enc\"] = user_enc.fit_transform(df[\"userId\"])\n",
    "df[\"movieId_enc\"] = item_enc.fit_transform(df[\"movieId\"])"
   ]
  },
  {
   "cell_type": "code",
   "execution_count": 5,
   "id": "c6995b73",
   "metadata": {},
   "outputs": [
    {
     "data": {
      "text/html": [
       "<div>\n",
       "<style scoped>\n",
       "    .dataframe tbody tr th:only-of-type {\n",
       "        vertical-align: middle;\n",
       "    }\n",
       "\n",
       "    .dataframe tbody tr th {\n",
       "        vertical-align: top;\n",
       "    }\n",
       "\n",
       "    .dataframe thead th {\n",
       "        text-align: right;\n",
       "    }\n",
       "</style>\n",
       "<table border=\"1\" class=\"dataframe\">\n",
       "  <thead>\n",
       "    <tr style=\"text-align: right;\">\n",
       "      <th></th>\n",
       "      <th>userId</th>\n",
       "      <th>movieId</th>\n",
       "      <th>rating</th>\n",
       "      <th>userId_enc</th>\n",
       "      <th>movieId_enc</th>\n",
       "    </tr>\n",
       "  </thead>\n",
       "  <tbody>\n",
       "    <tr>\n",
       "      <th>0</th>\n",
       "      <td>196</td>\n",
       "      <td>242</td>\n",
       "      <td>3.0</td>\n",
       "      <td>-0.999519</td>\n",
       "      <td>-0.554812</td>\n",
       "    </tr>\n",
       "    <tr>\n",
       "      <th>1</th>\n",
       "      <td>186</td>\n",
       "      <td>302</td>\n",
       "      <td>3.0</td>\n",
       "      <td>-1.037026</td>\n",
       "      <td>-0.373432</td>\n",
       "    </tr>\n",
       "    <tr>\n",
       "      <th>2</th>\n",
       "      <td>22</td>\n",
       "      <td>377</td>\n",
       "      <td>1.0</td>\n",
       "      <td>-1.652150</td>\n",
       "      <td>-0.146707</td>\n",
       "    </tr>\n",
       "    <tr>\n",
       "      <th>3</th>\n",
       "      <td>244</td>\n",
       "      <td>51</td>\n",
       "      <td>2.0</td>\n",
       "      <td>-0.819482</td>\n",
       "      <td>-1.132206</td>\n",
       "    </tr>\n",
       "    <tr>\n",
       "      <th>4</th>\n",
       "      <td>166</td>\n",
       "      <td>346</td>\n",
       "      <td>1.0</td>\n",
       "      <td>-1.112041</td>\n",
       "      <td>-0.240420</td>\n",
       "    </tr>\n",
       "  </tbody>\n",
       "</table>\n",
       "</div>"
      ],
      "text/plain": [
       "   userId  movieId  rating  userId_enc  movieId_enc\n",
       "0     196      242     3.0   -0.999519    -0.554812\n",
       "1     186      302     3.0   -1.037026    -0.373432\n",
       "2      22      377     1.0   -1.652150    -0.146707\n",
       "3     244       51     2.0   -0.819482    -1.132206\n",
       "4     166      346     1.0   -1.112041    -0.240420"
      ]
     },
     "execution_count": 5,
     "metadata": {},
     "output_type": "execute_result"
    }
   ],
   "source": [
    "# Chuẩn hóa\n",
    "scaler = StandardScaler()\n",
    "df[[\"userId_enc\", \"movieId_enc\"]] = scaler.fit_transform(df[[\"userId_enc\", \"movieId_enc\"]])\n",
    "\n",
    "df.head()"
   ]
  },
  {
   "cell_type": "code",
   "execution_count": 6,
   "id": "3bb3783b",
   "metadata": {},
   "outputs": [],
   "source": [
    "df = df.sample(frac=1, random_state=42).reset_index(drop=True)"
   ]
  },
  {
   "cell_type": "code",
   "execution_count": 7,
   "id": "879ad3de",
   "metadata": {},
   "outputs": [],
   "source": [
    "X = df[[\"userId_enc\", \"movieId_enc\"]]\n",
    "y = df[\"rating\"]"
   ]
  },
  {
   "cell_type": "code",
   "execution_count": 8,
   "id": "f69ab2ee",
   "metadata": {},
   "outputs": [],
   "source": [
    "#chia du lieu va huan luyen\n",
    "X_train, X_test, y_train, y_test = train_test_split(\n",
    "    X, y, test_size=0.2, random_state=42\n",
    ")\n",
    "model = LinearRegression()\n",
    "model.fit(X_train, y_train)\n",
    "y_pred = model.predict(X_test)"
   ]
  },
  {
   "cell_type": "code",
   "execution_count": 9,
   "id": "adc98661",
   "metadata": {},
   "outputs": [
    {
     "name": "stdout",
     "output_type": "stream",
     "text": [
      "MAE: 0.905\n",
      "MSE: 1.211\n",
      "RMSE: 1.100\n"
     ]
    }
   ],
   "source": [
    "# danh gia model\n",
    "mae = mean_absolute_error(y_test, y_pred)\n",
    "mse = mean_squared_error(y_test, y_pred)\n",
    "rmse = np.sqrt(mse)\n",
    "print(f\"MAE: {mae:.3f}\")\n",
    "print(f\"MSE: {mse:.3f}\")\n",
    "print(f\"RMSE: {rmse:.3f}\")"
   ]
  },
  {
   "cell_type": "code",
   "execution_count": 10,
   "id": "d97dc090",
   "metadata": {},
   "outputs": [
    {
     "name": "stdout",
     "output_type": "stream",
     "text": [
      "Lần 1: RMSE = 1.109 | MAE = 0.915  | MSE = 1.231\n",
      "Lần 2: RMSE = 1.106 | MAE = 0.913  | MSE = 1.224\n",
      "Lần 3: RMSE = 1.109 | MAE = 0.914  | MSE = 1.230\n",
      "Lần 4: RMSE = 1.102 | MAE = 0.907  | MSE = 1.214\n",
      "Lần 5: RMSE = 1.110 | MAE = 0.914  | MSE = 1.233\n",
      "Lần 6: RMSE = 1.109 | MAE = 0.915  | MSE = 1.231\n",
      "Lần 7: RMSE = 1.109 | MAE = 0.913  | MSE = 1.230\n",
      "Lần 8: RMSE = 1.103 | MAE = 0.912  | MSE = 1.217\n",
      "Lần 9: RMSE = 1.096 | MAE = 0.903  | MSE = 1.201\n",
      "Lần 10: RMSE = 1.108 | MAE = 0.915  | MSE = 1.228\n",
      "\n",
      "Trung bình sau 10 lần:\n",
      "MAE trung bình: 0.912\n",
      "MSE trung bình: 1.224\n",
      "RMSE trung bình: 1.106\n",
      "timeTrain: 0.0063\n",
      "timeTest: 0.0009\n"
     ]
    }
   ],
   "source": [
    "#chay thuc nghiem 10 lan\n",
    "rmse_list = []\n",
    "mae_list = []\n",
    "mse_list = []\n",
    "time_train = []\n",
    "time_test = []\n",
    "for i in range(10):\n",
    "    X_train, X_test, y_train, y_test = train_test_split(\n",
    "        X, y, test_size=0.2, random_state=i\n",
    "    )\n",
    "    st = time.time()\n",
    "    model = LinearRegression()\n",
    "    model.fit(X_train, y_train)\n",
    "    et = time.time() - st\n",
    "    time_train.append(et)\n",
    "\n",
    "    st = time.time()\n",
    "    y_pred = model.predict(X_test)\n",
    "    et = time.time() - st\n",
    "    time_test.append(et)\n",
    "\n",
    "    mse = mean_squared_error(y_test, y_pred)\n",
    "    rmse = np.sqrt(mse)\n",
    "    mae = mean_absolute_error(y_test, y_pred)\n",
    "\n",
    "    mse_list.append(mse)\n",
    "    rmse_list.append(rmse)\n",
    "    mae_list.append(mae)\n",
    "    \n",
    "    print(f\"Lần {i+1}: RMSE = {rmse:.3f} | MAE = {mae:.3f}  | MSE = {mse:.3f}\")\n",
    "\n",
    "mean_mae = np.mean(mae_list)\n",
    "mean_mse = np.mean(mse_list)\n",
    "mean_rmse = np.mean(rmse_list)\n",
    "\n",
    "print(f\"\\nTrung bình sau 10 lần:\")\n",
    "print(f\"MAE trung bình: {mean_mae:.3f}\")\n",
    "print(f\"MSE trung bình: {mean_mse:.3f}\")\n",
    "print(f\"RMSE trung bình: {mean_rmse:.3f}\")\n",
    "\n",
    "Ketqua_timeTrain = np.mean(time_train)\n",
    "print(f\"timeTrain: {Ketqua_timeTrain:.4f}\")\n",
    "Ketqua_timeTest = np.mean(time_test)\n",
    "print(f\"timeTest: {Ketqua_timeTest:.4f}\")"
   ]
  },
  {
   "cell_type": "code",
   "execution_count": 11,
   "id": "153efdb0",
   "metadata": {},
   "outputs": [
    {
     "data": {
      "image/png": "[encoded data removed]",
      "text/plain": [
       "<Figure size 1000x600 with 1 Axes>"
      ]
     },
     "metadata": {},
     "output_type": "display_data"
    }
   ],
   "source": [
    "#ve bieu do variance va bias\n",
    "iterations = np.arange(1, 11)\n",
    "\n",
    "plt.figure(figsize=(10, 6))\n",
    "plt.plot(iterations, rmse_list, marker='o', label='RMSE')\n",
    "plt.plot(iterations, mae_list, marker='s', label='MAE')\n",
    "plt.plot(iterations, mse_list, marker='^', label='MSE')\n",
    "plt.xlabel('Lần lặp')\n",
    "plt.ylabel('Giá trị')\n",
    "plt.title('Biểu đồ Bias và Variance qua các lần lặp (Linear Regression)')\n",
    "plt.legend()\n",
    "plt.grid(True)\n",
    "plt.show()"
   ]
  },
  {
   "cell_type": "code",
   "execution_count": 12,
   "id": "6f066d97",
   "metadata": {},
   "outputs": [
    {
     "name": "stdout",
     "output_type": "stream",
     "text": [
      "Lưu mô hình thành công\n"
     ]
    }
   ],
   "source": [
    "#luu mo hinh\n",
    "with open('linear_regression_model.pkl', 'wb') as f:\n",
    "    pickle.dump(model, f)\n",
    "\n",
    "print(\"Lưu mô hình thành công\")"
   ]
  }
 ],
 "metadata": {
  "kernelspec": {
   "display_name": "CT294",
   "language": "python",
   "name": "python3"
  },
  "language_info": {
   "codemirror_mode": {
    "name": "ipython",
    "version": 3
   },
   "file_extension": ".py",
   "mimetype": "text/x-python",
   "name": "python",
   "nbconvert_exporter": "python",
   "pygments_lexer": "ipython3",
   "version": "3.9.23"
  }
 },
 "nbformat": 4,
 "nbformat_minor": 5
}
