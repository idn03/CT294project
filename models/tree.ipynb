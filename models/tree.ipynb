{
 "cells": [
  {
   "cell_type": "code",
   "execution_count": 24,
   "id": "5c6cf589",
   "metadata": {},
   "outputs": [],
   "source": [
    "import pandas as pd\n",
    "import numpy as np\n",
    "import matplotlib.pyplot as plt\n",
    "import pickle\n",
    "\n",
    "from recommenders.utils.timer import Timer\n",
    "from recommenders.datasets import movielens\n",
    "from sklearn.preprocessing import LabelEncoder, StandardScaler\n",
    "from sklearn.model_selection import train_test_split\n",
    "from sklearn.metrics import mean_squared_error, mean_absolute_error\n",
    "\n",
    "from sklearn.tree import DecisionTreeRegressor\n",
    "\n",
    "from sklearn.metrics import mean_squared_error"
   ]
  },
  {
   "cell_type": "code",
   "execution_count": 16,
   "id": "bf8ac9f8",
   "metadata": {},
   "outputs": [
    {
     "name": "stderr",
     "output_type": "stream",
     "text": [
      "100%|██████████| 4.81k/4.81k [06:01<00:00, 13.3KB/s]\n"
     ]
    },
    {
     "data": {
      "text/html": [
       "<div>\n",
       "<style scoped>\n",
       "    .dataframe tbody tr th:only-of-type {\n",
       "        vertical-align: middle;\n",
       "    }\n",
       "\n",
       "    .dataframe tbody tr th {\n",
       "        vertical-align: top;\n",
       "    }\n",
       "\n",
       "    .dataframe thead th {\n",
       "        text-align: right;\n",
       "    }\n",
       "</style>\n",
       "<table border=\"1\" class=\"dataframe\">\n",
       "  <thead>\n",
       "    <tr style=\"text-align: right;\">\n",
       "      <th></th>\n",
       "      <th>userId</th>\n",
       "      <th>movieId</th>\n",
       "      <th>rating</th>\n",
       "      <th>timestamp</th>\n",
       "    </tr>\n",
       "  </thead>\n",
       "  <tbody>\n",
       "    <tr>\n",
       "      <th>0</th>\n",
       "      <td>196</td>\n",
       "      <td>242</td>\n",
       "      <td>3.0</td>\n",
       "      <td>881250949</td>\n",
       "    </tr>\n",
       "    <tr>\n",
       "      <th>1</th>\n",
       "      <td>186</td>\n",
       "      <td>302</td>\n",
       "      <td>3.0</td>\n",
       "      <td>891717742</td>\n",
       "    </tr>\n",
       "    <tr>\n",
       "      <th>2</th>\n",
       "      <td>22</td>\n",
       "      <td>377</td>\n",
       "      <td>1.0</td>\n",
       "      <td>878887116</td>\n",
       "    </tr>\n",
       "    <tr>\n",
       "      <th>3</th>\n",
       "      <td>244</td>\n",
       "      <td>51</td>\n",
       "      <td>2.0</td>\n",
       "      <td>880606923</td>\n",
       "    </tr>\n",
       "    <tr>\n",
       "      <th>4</th>\n",
       "      <td>166</td>\n",
       "      <td>346</td>\n",
       "      <td>1.0</td>\n",
       "      <td>886397596</td>\n",
       "    </tr>\n",
       "  </tbody>\n",
       "</table>\n",
       "</div>"
      ],
      "text/plain": [
       "   userId  movieId  rating  timestamp\n",
       "0     196      242     3.0  881250949\n",
       "1     186      302     3.0  891717742\n",
       "2      22      377     1.0  878887116\n",
       "3     244       51     2.0  880606923\n",
       "4     166      346     1.0  886397596"
      ]
     },
     "execution_count": 16,
     "metadata": {},
     "output_type": "execute_result"
    }
   ],
   "source": [
    "df = movielens.load_pandas_df(\n",
    "    size=\"100k\",\n",
    "    header=[\"userId\", \"movieId\", \"rating\", \"timestamp\"]\n",
    ")\n",
    "\n",
    "df.head()"
   ]
  },
  {
   "cell_type": "code",
   "execution_count": 17,
   "id": "f61394e9",
   "metadata": {},
   "outputs": [
    {
     "data": {
      "text/html": [
       "<div>\n",
       "<style scoped>\n",
       "    .dataframe tbody tr th:only-of-type {\n",
       "        vertical-align: middle;\n",
       "    }\n",
       "\n",
       "    .dataframe tbody tr th {\n",
       "        vertical-align: top;\n",
       "    }\n",
       "\n",
       "    .dataframe thead th {\n",
       "        text-align: right;\n",
       "    }\n",
       "</style>\n",
       "<table border=\"1\" class=\"dataframe\">\n",
       "  <thead>\n",
       "    <tr style=\"text-align: right;\">\n",
       "      <th></th>\n",
       "      <th>userId</th>\n",
       "      <th>movieId</th>\n",
       "      <th>rating</th>\n",
       "      <th>userId_enc</th>\n",
       "      <th>movieId_enc</th>\n",
       "    </tr>\n",
       "  </thead>\n",
       "  <tbody>\n",
       "    <tr>\n",
       "      <th>0</th>\n",
       "      <td>196</td>\n",
       "      <td>242</td>\n",
       "      <td>3.0</td>\n",
       "      <td>-0.999519</td>\n",
       "      <td>-0.554812</td>\n",
       "    </tr>\n",
       "    <tr>\n",
       "      <th>1</th>\n",
       "      <td>186</td>\n",
       "      <td>302</td>\n",
       "      <td>3.0</td>\n",
       "      <td>-1.037026</td>\n",
       "      <td>-0.373432</td>\n",
       "    </tr>\n",
       "    <tr>\n",
       "      <th>2</th>\n",
       "      <td>22</td>\n",
       "      <td>377</td>\n",
       "      <td>1.0</td>\n",
       "      <td>-1.652150</td>\n",
       "      <td>-0.146707</td>\n",
       "    </tr>\n",
       "    <tr>\n",
       "      <th>3</th>\n",
       "      <td>244</td>\n",
       "      <td>51</td>\n",
       "      <td>2.0</td>\n",
       "      <td>-0.819482</td>\n",
       "      <td>-1.132206</td>\n",
       "    </tr>\n",
       "    <tr>\n",
       "      <th>4</th>\n",
       "      <td>166</td>\n",
       "      <td>346</td>\n",
       "      <td>1.0</td>\n",
       "      <td>-1.112041</td>\n",
       "      <td>-0.240420</td>\n",
       "    </tr>\n",
       "  </tbody>\n",
       "</table>\n",
       "</div>"
      ],
      "text/plain": [
       "   userId  movieId  rating  userId_enc  movieId_enc\n",
       "0     196      242     3.0   -0.999519    -0.554812\n",
       "1     186      302     3.0   -1.037026    -0.373432\n",
       "2      22      377     1.0   -1.652150    -0.146707\n",
       "3     244       51     2.0   -0.819482    -1.132206\n",
       "4     166      346     1.0   -1.112041    -0.240420"
      ]
     },
     "execution_count": 17,
     "metadata": {},
     "output_type": "execute_result"
    }
   ],
   "source": [
    "df = df[[\"userId\", \"movieId\", \"rating\"]]\n",
    "\n",
    "user_enc = LabelEncoder()\n",
    "item_enc = LabelEncoder()\n",
    "df[\"userId_enc\"] = user_enc.fit_transform(df[\"userId\"])\n",
    "df[\"movieId_enc\"] = item_enc.fit_transform(df[\"movieId\"])\n",
    "\n",
    "scaler = StandardScaler()\n",
    "df[[\"userId_enc\", \"movieId_enc\"]] = scaler.fit_transform(df[[\"userId_enc\", \"movieId_enc\"]])\n",
    "\n",
    "df.head()"
   ]
  },
  {
   "cell_type": "code",
   "execution_count": 11,
   "id": "055a3b14",
   "metadata": {},
   "outputs": [],
   "source": [
    "# plt.figure(figsize=(8, 6))\n",
    "# plt.scatter(df[\"userId_enc\"], df[\"movieId_enc\"], c=df[\"rating\"], cmap=\"viridis\", alpha=0.5)\n",
    "# plt.colorbar(label=\"Rating\")\n",
    "# plt.xlabel(\"User (chuẩn hóa)\")\n",
    "# plt.ylabel(\"Movie (chuẩn hóa)\")\n",
    "# plt.title(\"Phân bố rating theo user và movie (chuẩn hóa)\")\n",
    "# plt.show()"
   ]
  },
  {
   "cell_type": "code",
   "execution_count": 18,
   "id": "8b04d285",
   "metadata": {},
   "outputs": [],
   "source": [
    "df = df.sample(frac=1, random_state=42).reset_index(drop=True)"
   ]
  },
  {
   "cell_type": "code",
   "execution_count": 22,
   "id": "26c87ce6",
   "metadata": {},
   "outputs": [
    {
     "name": "stdout",
     "output_type": "stream",
     "text": [
      "Lan 1: RMSE = 1.0528 | MAE = 0.8443 | MSE = 1.1084\n",
      "Lan 2: RMSE = 1.0600 | MAE = 0.8477 | MSE = 1.1236\n",
      "Lan 3: RMSE = 1.0563 | MAE = 0.8480 | MSE = 1.1157\n",
      "Lan 4: RMSE = 1.0528 | MAE = 0.8438 | MSE = 1.1085\n",
      "Lan 5: RMSE = 1.0666 | MAE = 0.8545 | MSE = 1.1377\n",
      "Lan 6: RMSE = 1.0588 | MAE = 0.8509 | MSE = 1.1211\n",
      "Lan 7: RMSE = 1.0579 | MAE = 0.8489 | MSE = 1.1192\n",
      "Lan 8: RMSE = 1.0504 | MAE = 0.8448 | MSE = 1.1034\n",
      "Lan 9: RMSE = 1.0372 | MAE = 0.8297 | MSE = 1.0757\n",
      "Lan 10: RMSE = 1.0540 | MAE = 0.8476 | MSE = 1.1110\n",
      "\n",
      "Trung binh sau 10 lan:\n",
      "RMSE trung binh: 1.0547\n",
      "MAE trung binh: 0.8460\n",
      "MSE trung binh: 1.1124\n"
     ]
    }
   ],
   "source": [
    "X = df[[\"userId_enc\", \"movieId_enc\"]]\n",
    "y = df[\"rating\"]\n",
    "\n",
    "rmse_list = []\n",
    "mae_list = []\n",
    "mse_list = []\n",
    "\n",
    "for i in range(10):\n",
    "    X_train, X_test, y_train, y_test = train_test_split(\n",
    "        X, y, test_size=0.2, random_state=i\n",
    "    )\n",
    "    model = DecisionTreeRegressor(max_depth=10, min_samples_split=5, random_state=i)\n",
    "    model.fit(X_train, y_train)\n",
    "    y_pred = model.predict(X_test)\n",
    "    \n",
    "    mse = mean_squared_error(y_test, y_pred)\n",
    "    rmse = np.sqrt(mse)\n",
    "    mae = mean_absolute_error(y_test, y_pred)\n",
    "    \n",
    "    mse_list.append(mse)\n",
    "    rmse_list.append(rmse)\n",
    "    mae_list.append(mae)\n",
    "    \n",
    "    print(f\"Lan {i+1}: RMSE = {rmse:.4f} | MAE = {mae:.4f} | MSE = {mse:.4f}\")\n",
    "\n",
    "mean_rmse = np.mean(rmse_list)\n",
    "mean_mae = np.mean(mae_list)\n",
    "mean_mse = np.mean(mse_list)\n",
    "\n",
    "print(f\"\\nTrung binh sau 10 lan:\")\n",
    "print(f\"RMSE trung binh: {mean_rmse:.4f}\")\n",
    "print(f\"MAE trung binh: {mean_mae:.4f}\")\n",
    "print(f\"MSE trung binh: {mean_mse:.4f}\")"
   ]
  },
  {
   "cell_type": "code",
   "execution_count": 23,
   "id": "8a4c4b7a",
   "metadata": {},
   "outputs": [
    {
     "data": {
      "image/png": "[encoded data removed]",
      "text/plain": [
       "<Figure size 1000x600 with 1 Axes>"
      ]
     },
     "metadata": {},
     "output_type": "display_data"
    }
   ],
   "source": [
    "iterations = np.arange(1, 11)\n",
    "\n",
    "plt.figure(figsize=(10, 6))\n",
    "plt.plot(iterations, rmse_list, marker='o', label='RMSE')\n",
    "plt.plot(iterations, mae_list, marker='s', label='MAE')\n",
    "plt.plot(iterations, mse_list, marker='^', label='MSE')\n",
    "plt.xlabel('Lần lặp')\n",
    "plt.ylabel('Giá trị')\n",
    "plt.title('Biểu đồ Bias và Variance qua các lần lặp')\n",
    "plt.legend()\n",
    "plt.grid(True)\n",
    "plt.show()"
   ]
  },
  {
   "cell_type": "code",
   "execution_count": 25,
   "id": "e7481dcf",
   "metadata": {},
   "outputs": [
    {
     "name": "stdout",
     "output_type": "stream",
     "text": [
      "Luu mo hinh thanh cong\n"
     ]
    }
   ],
   "source": [
    "with open('decision_tree_model.pkl', 'wb') as f:\n",
    "    pickle.dump(model, f)\n",
    "\n",
    "print(\"Luu mo hinh thanh cong\")"
   ]
  }
 ],
 "metadata": {
  "kernelspec": {
   "display_name": "ct294-kernel",
   "language": "python",
   "name": "ct294-p3.9"
  },
  "language_info": {
   "codemirror_mode": {
    "name": "ipython",
    "version": 3
   },
   "file_extension": ".py",
   "mimetype": "text/x-python",
   "name": "python",
   "nbconvert_exporter": "python",
   "pygments_lexer": "ipython3",
   "version": "3.9.23"
  }
 },
 "nbformat": 4,
 "nbformat_minor": 5
}
