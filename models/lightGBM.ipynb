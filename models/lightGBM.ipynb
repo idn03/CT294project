{
 "cells": [
  {
   "cell_type": "code",
   "execution_count": 11,
   "metadata": {},
   "outputs": [],
   "source": [
    "import pandas as pd\n",
    "import numpy as np\n",
    "import matplotlib.pyplot as plt\n",
    "import pickle\n",
    "import time\n",
    "import statistics\n",
    "\n",
    "from recommenders.datasets import movielens\n",
    "from sklearn.preprocessing import LabelEncoder, StandardScaler\n",
    "from sklearn.model_selection import train_test_split\n",
    "from sklearn.metrics import mean_squared_error, mean_absolute_error\n",
    "\n",
    "from lightgbm import LGBMRegressor"
   ]
  },
  {
   "cell_type": "code",
   "execution_count": 2,
   "metadata": {},
   "outputs": [
    {
     "name": "stderr",
     "output_type": "stream",
     "text": [
      "100%|██████████| 4.81k/4.81k [00:02<00:00, 1.66kKB/s]\n"
     ]
    }
   ],
   "source": [
    "df = movielens.load_pandas_df(\n",
    "    size=\"100k\",\n",
    "    header=[\"userId\", \"movieId\", \"rating\", \"timestamp\"]\n",
    ")\n",
    "df = df[[\"userId\", \"movieId\", \"rating\"]]"
   ]
  },
  {
   "cell_type": "code",
   "execution_count": 3,
   "metadata": {},
   "outputs": [],
   "source": [
    "#ma hoa du lieulieu\n",
    "user_enc = LabelEncoder()\n",
    "item_enc = LabelEncoder()\n",
    "df[\"userId_enc\"] = user_enc.fit_transform(df[\"userId\"])\n",
    "df[\"movieId_enc\"] = item_enc.fit_transform(df[\"movieId\"])\n"
   ]
  },
  {
   "cell_type": "code",
   "execution_count": 4,
   "metadata": {},
   "outputs": [],
   "source": [
    "#chuan hoa du lieu\n",
    "scaler = StandardScaler()\n",
    "df[[\"userId_enc\", \"movieId_enc\"]] = scaler.fit_transform(df[[\"userId_enc\", \"movieId_enc\"]])"
   ]
  },
  {
   "cell_type": "code",
   "execution_count": 5,
   "metadata": {},
   "outputs": [],
   "source": [
    "#xao tron du lieu\n",
    "df = df.sample(frac=1, random_state=42).reset_index(drop=True)"
   ]
  },
  {
   "cell_type": "code",
   "execution_count": 6,
   "metadata": {},
   "outputs": [],
   "source": [
    "X = df[[\"userId_enc\", \"movieId_enc\"]]\n",
    "y = df[\"rating\"]\n",
    "\n",
    "X_train, X_test, y_train, y_test = train_test_split(\n",
    "    X, y, test_size=0.2, random_state=42\n",
    ")"
   ]
  },
  {
   "cell_type": "code",
   "execution_count": 7,
   "metadata": {},
   "outputs": [
    {
     "name": "stdout",
     "output_type": "stream",
     "text": [
      "[LightGBM] [Info] Auto-choosing row-wise multi-threading, the overhead of testing was 0.000291 seconds.\n",
      "You can set `force_row_wise=true` to remove the overhead.\n",
      "And if memory is not enough, you can set `force_col_wise=true`.\n",
      "[LightGBM] [Info] Total Bins 509\n",
      "[LightGBM] [Info] Number of data points in the train set: 80000, number of used features: 2\n",
      "[LightGBM] [Info] Start training from score 3.530387\n"
     ]
    }
   ],
   "source": [
    "#huan luyen mo hinh\n",
    "model = LGBMRegressor()\n",
    "model.fit(X_train, y_train)\n",
    "y_pred = model.predict(X_test)"
   ]
  },
  {
   "cell_type": "code",
   "execution_count": 8,
   "metadata": {},
   "outputs": [
    {
     "name": "stdout",
     "output_type": "stream",
     "text": [
      "RMSE: 1.0230 | MAE: 0.8223 | MSE: 1.0465\n"
     ]
    }
   ],
   "source": [
    "#danh gia mo hinh\n",
    "mse = mean_squared_error(y_test, y_pred)\n",
    "rmse = np.sqrt(mse)\n",
    "mae = mean_absolute_error(y_test, y_pred)\n",
    "\n",
    "print(f\"RMSE: {rmse:.4f} | MAE: {mae:.4f} | MSE: {mse:.4f}\")\n"
   ]
  },
  {
   "cell_type": "code",
   "execution_count": 15,
   "metadata": {},
   "outputs": [
    {
     "name": "stdout",
     "output_type": "stream",
     "text": [
      "[LightGBM] [Info] Auto-choosing col-wise multi-threading, the overhead of testing was 0.000659 seconds.\n",
      "You can set `force_col_wise=true` to remove the overhead.\n",
      "[LightGBM] [Info] Total Bins 509\n",
      "[LightGBM] [Info] Number of data points in the train set: 80000, number of used features: 2\n",
      "[LightGBM] [Info] Start training from score 3.530362\n",
      "Lần 1: RMSE = 1.0286 | MAE = 0.8279 | MSE = 1.0580\n",
      "[LightGBM] [Info] Auto-choosing row-wise multi-threading, the overhead of testing was 0.000234 seconds.\n",
      "You can set `force_row_wise=true` to remove the overhead.\n",
      "And if memory is not enough, you can set `force_col_wise=true`.\n",
      "[LightGBM] [Info] Total Bins 509\n",
      "[LightGBM] [Info] Number of data points in the train set: 80000, number of used features: 2\n",
      "[LightGBM] [Info] Start training from score 3.530413\n",
      "Lần 2: RMSE = 1.0290 | MAE = 0.8291 | MSE = 1.0588\n",
      "[LightGBM] [Info] Auto-choosing row-wise multi-threading, the overhead of testing was 0.000246 seconds.\n",
      "You can set `force_row_wise=true` to remove the overhead.\n",
      "And if memory is not enough, you can set `force_col_wise=true`.\n",
      "[LightGBM] [Info] Total Bins 509\n",
      "[LightGBM] [Info] Number of data points in the train set: 80000, number of used features: 2\n",
      "[LightGBM] [Info] Start training from score 3.528000\n",
      "Lần 3: RMSE = 1.0305 | MAE = 0.8311 | MSE = 1.0620\n",
      "[LightGBM] [Info] Auto-choosing col-wise multi-threading, the overhead of testing was 0.000675 seconds.\n",
      "You can set `force_col_wise=true` to remove the overhead.\n",
      "[LightGBM] [Info] Total Bins 509\n",
      "[LightGBM] [Info] Number of data points in the train set: 80000, number of used features: 2\n",
      "[LightGBM] [Info] Start training from score 3.528575\n",
      "Lần 4: RMSE = 1.0214 | MAE = 0.8204 | MSE = 1.0433\n",
      "[LightGBM] [Info] Auto-choosing row-wise multi-threading, the overhead of testing was 0.000246 seconds.\n",
      "You can set `force_row_wise=true` to remove the overhead.\n",
      "And if memory is not enough, you can set `force_col_wise=true`.\n",
      "[LightGBM] [Info] Total Bins 509\n",
      "[LightGBM] [Info] Number of data points in the train set: 80000, number of used features: 2\n",
      "[LightGBM] [Info] Start training from score 3.529537\n",
      "Lần 5: RMSE = 1.0343 | MAE = 0.8311 | MSE = 1.0698\n",
      "[LightGBM] [Info] Auto-choosing col-wise multi-threading, the overhead of testing was 0.000728 seconds.\n",
      "You can set `force_col_wise=true` to remove the overhead.\n",
      "[LightGBM] [Info] Total Bins 509\n",
      "[LightGBM] [Info] Number of data points in the train set: 80000, number of used features: 2\n",
      "[LightGBM] [Info] Start training from score 3.528587\n",
      "Lần 6: RMSE = 1.0324 | MAE = 0.8327 | MSE = 1.0660\n",
      "[LightGBM] [Info] Auto-choosing row-wise multi-threading, the overhead of testing was 0.000224 seconds.\n",
      "You can set `force_row_wise=true` to remove the overhead.\n",
      "And if memory is not enough, you can set `force_col_wise=true`.\n",
      "[LightGBM] [Info] Total Bins 509\n",
      "[LightGBM] [Info] Number of data points in the train set: 80000, number of used features: 2\n",
      "[LightGBM] [Info] Start training from score 3.532437\n",
      "Lần 7: RMSE = 1.0296 | MAE = 0.8299 | MSE = 1.0600\n",
      "[LightGBM] [Info] Auto-choosing row-wise multi-threading, the overhead of testing was 0.000349 seconds.\n",
      "You can set `force_row_wise=true` to remove the overhead.\n",
      "And if memory is not enough, you can set `force_col_wise=true`.\n",
      "[LightGBM] [Info] Total Bins 509\n",
      "[LightGBM] [Info] Number of data points in the train set: 80000, number of used features: 2\n",
      "[LightGBM] [Info] Start training from score 3.527575\n",
      "Lần 8: RMSE = 1.0252 | MAE = 0.8287 | MSE = 1.0510\n",
      "[LightGBM] [Info] Auto-choosing row-wise multi-threading, the overhead of testing was 0.000230 seconds.\n",
      "You can set `force_row_wise=true` to remove the overhead.\n",
      "And if memory is not enough, you can set `force_col_wise=true`.\n",
      "[LightGBM] [Info] Total Bins 509\n",
      "[LightGBM] [Info] Number of data points in the train set: 80000, number of used features: 2\n",
      "[LightGBM] [Info] Start training from score 3.529025\n",
      "Lần 9: RMSE = 1.0161 | MAE = 0.8181 | MSE = 1.0325\n",
      "[LightGBM] [Info] Auto-choosing row-wise multi-threading, the overhead of testing was 0.000233 seconds.\n",
      "You can set `force_row_wise=true` to remove the overhead.\n",
      "And if memory is not enough, you can set `force_col_wise=true`.\n",
      "[LightGBM] [Info] Total Bins 509\n",
      "[LightGBM] [Info] Number of data points in the train set: 80000, number of used features: 2\n",
      "[LightGBM] [Info] Start training from score 3.530912\n",
      "Lần 10: RMSE = 1.0329 | MAE = 0.8352 | MSE = 1.0670\n",
      "\n",
      "Trung bình sau 10 lần:\n",
      "RMSE trung bình: 1.0280\n",
      "MAE trung bình: 0.8284\n",
      "MSE trung bình: 1.0568\n",
      "time_train 0.21332030296325682\n",
      "time_test 0.002335667610168457\n"
     ]
    }
   ],
   "source": [
    "#chay thuc nghiem 10 lan\n",
    "rmse_list = []\n",
    "mae_list = []\n",
    "mse_list = []\n",
    "time_train = []\n",
    "time_test = []\n",
    "for i in range(10):\n",
    "    X_train, X_test, y_train, y_test = train_test_split(\n",
    "        X, y, test_size=0.2, random_state=i\n",
    "    )\n",
    "    st = time.time()\n",
    "    model = LGBMRegressor()\n",
    "    model.fit(X_train, y_train)\n",
    "    y_pred = model.predict(X_test)\n",
    "    et = time.time() - st\n",
    "    time_train.append(et)\n",
    "\n",
    "    st = time.time()\n",
    "    mse = mean_squared_error(y_test, y_pred)\n",
    "    rmse = np.sqrt(mse)\n",
    "    mae = mean_absolute_error(y_test, y_pred)\n",
    "    et = time.time() - st\n",
    "    time_test.append(et)\n",
    "    \n",
    "    mse_list.append(mse)\n",
    "    rmse_list.append(rmse)\n",
    "    mae_list.append(mae)\n",
    "    \n",
    "    print(f\"Lần {i+1}: RMSE = {rmse:.4f} | MAE = {mae:.4f} | MSE = {mse:.4f}\")\n",
    "\n",
    "mean_rmse = np.mean(rmse_list)\n",
    "mean_mae = np.mean(mae_list)\n",
    "mean_mse = np.mean(mse_list)\n",
    "\n",
    "print(f\"\\nTrung bình sau 10 lần:\")\n",
    "print(f\"RMSE trung bình: {mean_rmse:.4f}\")\n",
    "print(f\"MAE trung bình: {mean_mae:.4f}\")\n",
    "print(f\"MSE trung bình: {mean_mse:.4f}\")\n",
    "Ketqua_timeTrain = statistics.mean(time_train)\n",
    "print('time_train' ,Ketqua_timeTrain)\n",
    "Ketqua_timeTest = statistics.mean(time_test)\n",
    "print('time_test' ,Ketqua_timeTest)"
   ]
  },
  {
   "cell_type": "code",
   "execution_count": 16,
   "metadata": {},
   "outputs": [
    {
     "data": {
      "image/png": "[encoded data removed]",
      "text/plain": [
       "<Figure size 1000x600 with 1 Axes>"
      ]
     },
     "metadata": {},
     "output_type": "display_data"
    }
   ],
   "source": [
    "iterations = np.arange(1, 11)\n",
    "\n",
    "plt.figure(figsize=(10, 6))\n",
    "plt.plot(iterations, rmse_list, marker='o', label='RMSE')\n",
    "plt.plot(iterations, mae_list, marker='s', label='MAE')\n",
    "plt.plot(iterations, mse_list, marker='^', label='MSE')\n",
    "plt.xlabel('Lần lặp')\n",
    "plt.ylabel('Giá trị')\n",
    "plt.title('Biểu đồ Bias và Variance qua các lần lặp (LightGBM)')\n",
    "plt.legend()\n",
    "plt.grid(True)\n",
    "plt.show()"
   ]
  },
  {
   "cell_type": "code",
   "execution_count": 17,
   "metadata": {},
   "outputs": [
    {
     "name": "stdout",
     "output_type": "stream",
     "text": [
      "Lưu mô hình thành công\n"
     ]
    }
   ],
   "source": [
    "with open('lightgbm_model.pkl', 'wb') as f:\n",
    "    pickle.dump(model, f)\n",
    "\n",
    "print(\"Lưu mô hình thành công\")"
   ]
  }
 ],
 "metadata": {
  "kernelspec": {
   "display_name": "CT294",
   "language": "python",
   "name": "python3"
  },
  "language_info": {
   "codemirror_mode": {
    "name": "ipython",
    "version": 3
   },
   "file_extension": ".py",
   "mimetype": "text/x-python",
   "name": "python",
   "nbconvert_exporter": "python",
   "pygments_lexer": "ipython3",
   "version": "3.9.23"
  }
 },
 "nbformat": 4,
 "nbformat_minor": 2
}
